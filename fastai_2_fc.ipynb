{
  "nbformat": 4,
  "nbformat_minor": 0,
  "metadata": {
    "colab": {
      "name": "fastai_2_fc.ipynb",
      "provenance": [],
      "collapsed_sections": [],
      "authorship_tag": "ABX9TyP8b5LnVPDTGb4N6Ywgbm4q",
      "include_colab_link": true
    },
    "kernelspec": {
      "name": "python3",
      "display_name": "Python 3"
    }
  },
  "cells": [
    {
      "cell_type": "markdown",
      "metadata": {
        "id": "view-in-github",
        "colab_type": "text"
      },
      "source": [
        "<a href=\"https://colab.research.google.com/github/zhihong1224/CNN_Demo/blob/master/fastai_2_fc.ipynb\" target=\"_parent\"><img src=\"https://colab.research.google.com/assets/colab-badge.svg\" alt=\"Open In Colab\"/></a>"
      ]
    },
    {
      "cell_type": "markdown",
      "metadata": {
        "id": "PIFcAAd6CKRo",
        "colab_type": "text"
      },
      "source": [
        "# 导入数据"
      ]
    },
    {
      "cell_type": "code",
      "metadata": {
        "id": "CFXeXmIxCGgB",
        "colab_type": "code",
        "outputId": "210b7d67-31b0-4960-a6a9-5b5a336314bb",
        "colab": {
          "base_uri": "https://localhost:8080/",
          "height": 52
        }
      },
      "source": [
        "%load_ext autoreload\n",
        "%autoreload 2\n",
        "\n",
        "%matplotlib inline\n",
        "\n",
        "from pathlib import Path\n",
        "from IPython.core.debugger import set_trace\n",
        "from fastai import datasets\n",
        "import pickle,gzip,math,torch,matplotlib as mpl\n",
        "import matplotlib.pyplot as plt\n",
        "from torch import tensor\n",
        "\n",
        "MNIST_URL='http://deeplearning.net/data/mnist/mnist.pkl'\n",
        "\n",
        "import torch\n",
        "\n",
        "def get_data():\n",
        "  path=datasets.download_data(MNIST_URL,ext='.gz')\n",
        "  with gzip.open(path,'rb') as f:\n",
        "    ((x_train,y_train),(x_valid,y_valid),_)=pickle.load(f,encoding='latin-1')\n",
        "  return map(tensor,(x_train,y_train,x_valid,y_valid))\n",
        "\n",
        "def normalize(x,m,s):return (x-m)/s\n",
        "\n",
        "x_train,y_train,x_valid,y_valid=get_data()\n",
        "train_mean,train_std=x_train.mean(),x_train.std()\n",
        "\n",
        "x_train=normalize(x_train,train_mean,train_std)\n",
        "x_valid=normalize(x_valid,train_mean,train_std)\n",
        "\n",
        "n,m=x_train.shape\n",
        "c=y_train.max()+1\n",
        "nh=50\n",
        "n,m,c"
      ],
      "execution_count": 0,
      "outputs": [
        {
          "output_type": "stream",
          "text": [
            "Downloading http://deeplearning.net/data/mnist/mnist.pkl.gz\n"
          ],
          "name": "stdout"
        },
        {
          "output_type": "display_data",
          "data": {
            "text/html": [
              ""
            ],
            "text/plain": [
              "<IPython.core.display.HTML object>"
            ]
          },
          "metadata": {
            "tags": []
          }
        },
        {
          "output_type": "execute_result",
          "data": {
            "text/plain": [
              "(50000, 784, tensor(10))"
            ]
          },
          "metadata": {
            "tags": []
          },
          "execution_count": 2
        }
      ]
    },
    {
      "cell_type": "markdown",
      "metadata": {
        "id": "eLDXIqsZCOuS",
        "colab_type": "text"
      },
      "source": [
        "# 参数初始化"
      ]
    },
    {
      "cell_type": "code",
      "metadata": {
        "id": "GmpsmBfKCN7N",
        "colab_type": "code",
        "colab": {}
      },
      "source": [
        "w1=torch.randn(m,nh)*math.sqrt(2/m)\n",
        "b1=torch.zeros(nh)\n",
        "w2=torch.randn(nh,1)*math.sqrt(2/nh)\n",
        "b2=torch.zeros(1)"
      ],
      "execution_count": 0,
      "outputs": []
    },
    {
      "cell_type": "markdown",
      "metadata": {
        "id": "GD1706hVCfHP",
        "colab_type": "text"
      },
      "source": [
        "# 纯函数实现"
      ]
    },
    {
      "cell_type": "code",
      "metadata": {
        "id": "Upz6tAYaCeI1",
        "colab_type": "code",
        "outputId": "ff0c98c7-598c-4f35-a2af-7c1f14134d59",
        "colab": {
          "base_uri": "https://localhost:8080/",
          "height": 35
        }
      },
      "source": [
        "# 不同的层的函数\n",
        "def lin(x,w,b):\n",
        "  return x@w+b\n",
        "\n",
        "def relu(x):\n",
        "  return x.clamp_min(0.)-0.5\n",
        "\n",
        "# 模型函数\n",
        "def model(x):\n",
        "  l1=lin(x,w1,b1)\n",
        "  l2=relu(l1)\n",
        "  l3=lin(l2,w2,b2)\n",
        "  return l3\n",
        "\n",
        "# 损失函数\n",
        "def mse(out,targ):\n",
        "  return ((out.squeeze(-1)-targ)**2).mean()\n",
        "\n",
        "# 反向传播\n",
        "def mse_grad(inp,targ):\n",
        "  inp.g=2*(inp.squeeze()-targ).unsqueeze(-1)/inp.shape[0]\n",
        "\n",
        "def relu_grad(inp,out):\n",
        "  inp.g=(inp>0.).float()*out.g\n",
        "\n",
        "def lin_grad(inp,out,w,b):\n",
        "  inp.g=out.g@(w.t())\n",
        "  # w.g=inp.t()@out.g\n",
        "  w.g=(inp.unsqueeze(-1)*out.g.unsqueeze(1)).sum(0)\n",
        "  b.g=out.g.sum(0)\n",
        "\n",
        "def forward_and_backward(inp,targ):\n",
        "  l1=inp@w1+b1\n",
        "  l2=relu(l1)\n",
        "  out=l2@w2+b2\n",
        "  print(out.shape)\n",
        "  loss=mse(out,targ)\n",
        "\n",
        "  mse_grad(out,targ)\n",
        "  lin_grad(l2,out,w2,b2)\n",
        "  relu_grad(l1,l2)\n",
        "  lin_grad(inp,l1,w1,b1)\n",
        "\n",
        "# 测试\n",
        "w1.g,b1.g,w2.g,b2.g=[None]*4\n",
        "forward_and_backward(x_train,y_train)"
      ],
      "execution_count": 0,
      "outputs": [
        {
          "output_type": "stream",
          "text": [
            "torch.Size([50000, 1])\n"
          ],
          "name": "stdout"
        }
      ]
    },
    {
      "cell_type": "code",
      "metadata": {
        "id": "7rj0Ovg0Cjr3",
        "colab_type": "code",
        "colab": {}
      },
      "source": [
        "# 与pytorch的结果比较\n",
        "def test(a,b,cmp,cname=None):\n",
        "  if cname is None:cname=cmp.__name__\n",
        "  assert cmp(a,b),f'{cname}:\\n{a}\\{b}'\n",
        "def near(a,b):\n",
        "  return torch.allclose(a,b,rtol=1e-3,atol=1e-5)\n",
        "def test_near(a,b):\n",
        "  test(a,b,near)\n",
        "\n",
        "w1g=w1.g.clone()\n",
        "w2g=w2.g.clone()\n",
        "b1g=b1.g.clone()\n",
        "b2g=b2.g.clone()\n",
        "ig=x_train.g.clone()\n",
        "\n",
        "xt2=x_train.clone().requires_grad_(True)\n",
        "w12=w1.clone().requires_grad_(True)\n",
        "w22=w2.clone().requires_grad_(True)\n",
        "b12=b1.clone().requires_grad_(True)\n",
        "b22=b2.clone().requires_grad_(True)\n",
        "\n",
        "def forward(inp,targ):\n",
        "  l1=inp@w12+b12\n",
        "  l2=relu(l1)\n",
        "  out=l2@w22+b22\n",
        "  return mse(out,targ)\n",
        "\n",
        "loss=forward(xt2,y_train)\n",
        "\n",
        "loss.backward()"
      ],
      "execution_count": 0,
      "outputs": []
    },
    {
      "cell_type": "code",
      "metadata": {
        "id": "obMfyTVZCmWu",
        "colab_type": "code",
        "colab": {}
      },
      "source": [
        "test_near(w22.grad,w2g)\n",
        "test_near(b22.grad,b2g)\n",
        "test_near(w12.grad,w1g)\n",
        "test_near(b12.grad,b1g)\n",
        "test_near(xt2.grad,ig)"
      ],
      "execution_count": 0,
      "outputs": []
    },
    {
      "cell_type": "markdown",
      "metadata": {
        "id": "-zmPIa46Cojz",
        "colab_type": "text"
      },
      "source": [
        "# 类形式实现"
      ]
    },
    {
      "cell_type": "code",
      "metadata": {
        "id": "ELmxKgzNCn14",
        "colab_type": "code",
        "colab": {}
      },
      "source": [
        "class Relu():\n",
        "  def __call__(self,inp):   # 传入前向传播需要输入的数据\n",
        "    self.inp=inp\n",
        "    self.out=inp.clamp_min(0.)-0.5\n",
        "    return self.out\n",
        "  def backward(self):\n",
        "    self.inp.g=(self.inp>0).float()*self.out.g"
      ],
      "execution_count": 0,
      "outputs": []
    },
    {
      "cell_type": "code",
      "metadata": {
        "id": "TxOFv5NRCrsT",
        "colab_type": "code",
        "colab": {}
      },
      "source": [
        "class Lin():\n",
        "  def __init__(self,w,b):   # 传入层的权重\n",
        "    self.w,self.b=w,b\n",
        "  def __call__(self,inp):   # 传入前向传播需要输入的数据\n",
        "    self.inp=inp\n",
        "    self.out=self.inp@self.w+self.b\n",
        "    return self.out\n",
        "  def backward(self):\n",
        "    self.inp.g=self.out.g@self.w.t()\n",
        "    self.w.g=self.inp.t()@self.out.g\n",
        "    self.b.g=self.out.g.sum(0)"
      ],
      "execution_count": 0,
      "outputs": []
    },
    {
      "cell_type": "code",
      "metadata": {
        "id": "g_DD3rs6CtCu",
        "colab_type": "code",
        "colab": {}
      },
      "source": [
        "class Mse():\n",
        "  def __call__(self,inp,targ):\n",
        "    self.inp=inp\n",
        "    self.targ=targ\n",
        "    self.out=((self.inp.squeeze()-self.targ)**2).mean()\n",
        "    return self.out\n",
        "  def backward(self):\n",
        "    self.inp.g=2*(self.inp.squeeze()-self.targ).unsqueeze(-1)/self.targ.shape[0]\n"
      ],
      "execution_count": 0,
      "outputs": []
    },
    {
      "cell_type": "code",
      "metadata": {
        "id": "oIo5JfQ1CvFM",
        "colab_type": "code",
        "colab": {}
      },
      "source": [
        "class Model():\n",
        "  def __init__(self,w1,b1,w2,b2):\n",
        "    self.layers=[Lin(w1,b1),Relu(),Lin(w2,b2)]\n",
        "    self.loss=Mse()\n",
        "  def __call__(self,x,targ):\n",
        "    for l in self.layers:\n",
        "      x=l(x)\n",
        "    return self.loss(x,targ)\n",
        "  def backward(self):\n",
        "    self.loss.backward()\n",
        "    for l in reversed(self.layers):\n",
        "      l.backward()"
      ],
      "execution_count": 0,
      "outputs": []
    },
    {
      "cell_type": "code",
      "metadata": {
        "id": "Zue2rPJbCwu3",
        "colab_type": "code",
        "colab": {}
      },
      "source": [
        "w1.g,b1.g,w2.g,b2.g=[None]*4\n",
        "model=Model(w1,b1,w2,b2)"
      ],
      "execution_count": 0,
      "outputs": []
    },
    {
      "cell_type": "code",
      "metadata": {
        "id": "XWufy550Cx0D",
        "colab_type": "code",
        "outputId": "524513c8-a466-454f-d851-947fb5d82a0c",
        "colab": {
          "base_uri": "https://localhost:8080/",
          "height": 52
        }
      },
      "source": [
        "%time loss=model(x_train,y_train)"
      ],
      "execution_count": 0,
      "outputs": [
        {
          "output_type": "stream",
          "text": [
            "CPU times: user 111 ms, sys: 18 µs, total: 111 ms\n",
            "Wall time: 112 ms\n"
          ],
          "name": "stdout"
        }
      ]
    },
    {
      "cell_type": "code",
      "metadata": {
        "id": "WJOmJS7UCzMX",
        "colab_type": "code",
        "colab": {}
      },
      "source": [
        "model.backward()"
      ],
      "execution_count": 0,
      "outputs": []
    },
    {
      "cell_type": "markdown",
      "metadata": {
        "id": "rpQP_z8lC00_",
        "colab_type": "text"
      },
      "source": [
        "# 在基类的基础上写子类"
      ]
    },
    {
      "cell_type": "code",
      "metadata": {
        "id": "RzXgQxHVC0VT",
        "colab_type": "code",
        "colab": {}
      },
      "source": [
        "# 基类\n",
        "class Module():\n",
        "  def __call__(self,*args):\n",
        "    self.args=args\n",
        "    self.out=self.forward(*args)\n",
        "    return self.out\n",
        "  def forward(self):\n",
        "    raise Exception('not implemented')\n",
        "  def backward(self):\n",
        "    self.bwd(self.out,*self.args)\n",
        "\n",
        "class Relu(Module):\n",
        "  def forward(self,inp):\n",
        "    return inp.clamp_min(0.)-0.5\n",
        "  def bwd(self,out,inp):\n",
        "    inp.g=(inp>0).float()*out.g\n",
        "\n",
        "class Lin(Module):\n",
        "  def __init__(self,w,b):\n",
        "    self.w,self.b=w,b\n",
        "  def forward(self,inp):\n",
        "    return inp@self.w+self.b\n",
        "  def bwd(self,out,inp):\n",
        "    inp.g=out.g@self.w.t()\n",
        "    self.w.g=torch.einsum('bi,bj->ij',inp,out.g)\n",
        "    self.b.g=out.g.sum(0)\n",
        "\n",
        "class Mse(Module):\n",
        "  def forward(self,inp,targ):\n",
        "    return ((inp.squeeze()-targ)**2).mean()\n",
        "  def bwd(self,out,inp,targ):\n",
        "    inp.g=2*(inp.squeeze()-targ).unsqueeze(-1)/targ.shape[0]\n",
        "\n",
        "class Model():\n",
        "  def __init__(self):\n",
        "    self.layers=[Lin(w1,b1),Relu(),Lin(w2,b2)]\n",
        "    self.loss=Mse()\n",
        "  def __call__(self,x,targ):\n",
        "    for l in self.layers:\n",
        "      x=l(x)\n",
        "    return self.loss(x,targ)\n",
        "  def backward(self):\n",
        "    self.loss.backward()\n",
        "    for l in reversed(self.layers):\n",
        "      l.backward()"
      ],
      "execution_count": 0,
      "outputs": []
    },
    {
      "cell_type": "code",
      "metadata": {
        "id": "E4o68ULxC5Yu",
        "colab_type": "code",
        "colab": {}
      },
      "source": [
        "w1.g,b1.g,w2.g,b2.g=[None]*4\n",
        "model=Model()"
      ],
      "execution_count": 0,
      "outputs": []
    },
    {
      "cell_type": "code",
      "metadata": {
        "id": "GBMTxkDMC61O",
        "colab_type": "code",
        "outputId": "85b7268d-efd7-418f-de2e-57e9b55fdf9c",
        "colab": {
          "base_uri": "https://localhost:8080/",
          "height": 52
        }
      },
      "source": [
        "%time loss=model(x_train,y_train)"
      ],
      "execution_count": 0,
      "outputs": [
        {
          "output_type": "stream",
          "text": [
            "CPU times: user 115 ms, sys: 0 ns, total: 115 ms\n",
            "Wall time: 115 ms\n"
          ],
          "name": "stdout"
        }
      ]
    },
    {
      "cell_type": "code",
      "metadata": {
        "id": "yXq79MUQC8E_",
        "colab_type": "code",
        "colab": {}
      },
      "source": [
        "model.backward()"
      ],
      "execution_count": 0,
      "outputs": []
    },
    {
      "cell_type": "code",
      "metadata": {
        "id": "MO9k5r09C9LS",
        "colab_type": "code",
        "colab": {}
      },
      "source": [
        ""
      ],
      "execution_count": 0,
      "outputs": []
    }
  ]
}