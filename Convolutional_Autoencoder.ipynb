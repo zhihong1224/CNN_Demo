{
  "nbformat": 4,
  "nbformat_minor": 0,
  "metadata": {
    "colab": {
      "name": "Convolutional Autoencoder.ipynb",
      "provenance": [],
      "authorship_tag": "ABX9TyOVvVbnCtnlZ5NjQsO5hIVY",
      "include_colab_link": true
    },
    "kernelspec": {
      "name": "python3",
      "display_name": "Python 3"
    },
    "accelerator": "GPU"
  },
  "cells": [
    {
      "cell_type": "markdown",
      "metadata": {
        "id": "view-in-github",
        "colab_type": "text"
      },
      "source": [
        "<a href=\"https://colab.research.google.com/github/zhihong1224/CNN_Demo/blob/master/Convolutional_Autoencoder.ipynb\" target=\"_parent\"><img src=\"https://colab.research.google.com/assets/colab-badge.svg\" alt=\"Open In Colab\"/></a>"
      ]
    },
    {
      "cell_type": "markdown",
      "metadata": {
        "id": "pLcMpaiMKxaD",
        "colab_type": "text"
      },
      "source": [
        "# 1 Setup"
      ]
    },
    {
      "cell_type": "code",
      "metadata": {
        "id": "Gawr06WoKGZB",
        "colab_type": "code",
        "colab": {}
      },
      "source": [
        "import numpy as np\n",
        "import torch\n",
        "from torch import nn,optim\n",
        "import torch.nn.functional as F\n",
        "import torch.utils.data as Data\n",
        "from torch.utils.data.sampler import SubsetRandomSampler\n",
        "from torchvision import datasets\n",
        "import torchvision.transforms as transforms\n",
        "import matplotlib.pyplot as plt\n",
        "\n",
        "%matplotlib inline\n",
        "device=torch.device('cuda' if torch.cuda.is_available() else 'cpu')"
      ],
      "execution_count": 0,
      "outputs": []
    },
    {
      "cell_type": "markdown",
      "metadata": {
        "id": "Y43tO88ALK_d",
        "colab_type": "text"
      },
      "source": [
        "# 2 准备数据"
      ]
    },
    {
      "cell_type": "code",
      "metadata": {
        "id": "uZrK6paCLAs2",
        "colab_type": "code",
        "colab": {
          "base_uri": "https://localhost:8080/",
          "height": 35
        },
        "outputId": "fc583596-69f6-4947-c009-f36138c65303"
      },
      "source": [
        "trans=transforms.ToTensor()\n",
        "train_data_all=datasets.MNIST(root='./data',train=True,download=True,transform=trans)\n",
        "test_data=datasets.MNIST(root='./data',train=False,download=True,transform=trans)\n",
        "len(train_data_all),len(test_data)"
      ],
      "execution_count": 4,
      "outputs": [
        {
          "output_type": "execute_result",
          "data": {
            "text/plain": [
              "(60000, 10000)"
            ]
          },
          "metadata": {
            "tags": []
          },
          "execution_count": 4
        }
      ]
    },
    {
      "cell_type": "code",
      "metadata": {
        "id": "9v3LhQVMLnyR",
        "colab_type": "code",
        "colab": {}
      },
      "source": [
        "indices=np.random.permutation(len(train_data_all))\n",
        "\n",
        "valid_ratio=0.2\n",
        "valid_num=int(valid_ratio*len(train_data_all))\n",
        "\n",
        "valid_sampler=SubsetRandomSampler(indices[:valid_num])\n",
        "train_sampler=SubsetRandomSampler(indices[valid_num:])\n",
        "\n",
        "batch_size=128\n",
        "valid_iter=Data.DataLoader(train_data_all,batch_size=batch_size,sampler=valid_sampler,num_workers=4)\n",
        "train_iter=Data.DataLoader(train_data_all,batch_size=batch_size,sampler=train_sampler,num_workers=4)\n",
        "test_iter=Data.DataLoader(test_data,batch_size=batch_size,num_workers=4)"
      ],
      "execution_count": 0,
      "outputs": []
    },
    {
      "cell_type": "code",
      "metadata": {
        "id": "-S7RWGsmM2uK",
        "colab_type": "code",
        "colab": {
          "base_uri": "https://localhost:8080/",
          "height": 35
        },
        "outputId": "c606aa44-2f47-4836-a02e-7151b33a880b"
      },
      "source": [
        "for X,Y in valid_iter:\n",
        "  print(X.shape,Y.shape)\n",
        "  break"
      ],
      "execution_count": 12,
      "outputs": [
        {
          "output_type": "stream",
          "text": [
            "torch.Size([128, 1, 28, 28]) torch.Size([128])\n"
          ],
          "name": "stdout"
        }
      ]
    },
    {
      "cell_type": "markdown",
      "metadata": {
        "id": "8NdypImPNJOP",
        "colab_type": "text"
      },
      "source": [
        "# 2 感知数据"
      ]
    },
    {
      "cell_type": "code",
      "metadata": {
        "id": "OAPffxeVM9M3",
        "colab_type": "code",
        "colab": {}
      },
      "source": [
        "def show(data_iter,show_num):\n",
        "  import math\n",
        "  show_iter=iter(data_iter)\n",
        "  show_some=next(show_iter)\n",
        "  img,label=show_some\n",
        "  rows=math.sqrt(show_num)\n",
        "  cols=math.ceil(show_num/rows)\n",
        "  fig=plt.figure()\n",
        "  for i in range(show_num):\n",
        "    ax=fig.add_subplot(rows,cols,i+1,xticks=[],yticks=[])\n",
        "    ax.imshow(img[i].squeeze(0),cmap='gray')\n",
        "    ax.set_title(str(label[i].item()),c='green')"
      ],
      "execution_count": 0,
      "outputs": []
    },
    {
      "cell_type": "code",
      "metadata": {
        "id": "UQ3SkqDwN4-0",
        "colab_type": "code",
        "colab": {
          "base_uri": "https://localhost:8080/",
          "height": 268
        },
        "outputId": "6b7108e0-60aa-4c70-8136-a452eb1bdc74"
      },
      "source": [
        "show(valid_iter,10)"
      ],
      "execution_count": 18,
      "outputs": [
        {
          "output_type": "display_data",
          "data": {
            "image/png": "[encoded data removed]",
            "text/plain": [
              "<Figure size 432x288 with 10 Axes>"
            ]
          },
          "metadata": {
            "tags": []
          }
        }
      ]
    },
    {
      "cell_type": "markdown",
      "metadata": {
        "id": "3WUY3XFSOG92",
        "colab_type": "text"
      },
      "source": [
        "# 3 自动编码器"
      ]
    },
    {
      "cell_type": "code",
      "metadata": {
        "id": "Qb4XJ9BAN8wX",
        "colab_type": "code",
        "colab": {}
      },
      "source": [
        "class Autoencoder(nn.Module):\n",
        "  def __init__(self):\n",
        "    super(Autoencoder,self).__init__()\n",
        "    self.conv1=nn.Conv2d(1,16,kernel_size=3,padding=1)\n",
        "    self.conv2=nn.Conv2d(16,4,kernel_size=3,padding=1)\n",
        "    self.pool=nn.MaxPool2d(kernel_size=(2,2),stride=2)\n",
        "\n",
        "    self.t_conv1=nn.ConvTranspose2d(4,16,kernel_size=2,stride=2)\n",
        "    self.t_conv2=nn.ConvTranspose2d(16,1,kernel_size=2,stride=2)\n",
        "  def forward(self,x):\n",
        "    x=F.relu(self.conv1(x))\n",
        "    x=self.pool(x)\n",
        "    x=F.relu(self.conv2(x))\n",
        "    x=self.pool(x)\n",
        "\n",
        "    x=F.relu(self.t_conv1(x))\n",
        "    x=F.sigmoid(self.t_conv2(x))\n",
        "    return x"
      ],
      "execution_count": 0,
      "outputs": []
    },
    {
      "cell_type": "markdown",
      "metadata": {
        "id": "9pXAtARHSlWW",
        "colab_type": "text"
      },
      "source": [
        "# 4 训练"
      ]
    },
    {
      "cell_type": "code",
      "metadata": {
        "id": "3g_q3XrcSdVQ",
        "colab_type": "code",
        "colab": {}
      },
      "source": [
        "def train(model,num_epochs,lr,train_iter,valid_iter):\n",
        "  model=model.to(device)\n",
        "  criterion=nn.MSELoss()\n",
        "  optimizer=optim.Adam(model.parameters(),lr)\n",
        "  train_loss_list,valid_loss_list=[],[]\n",
        "  valid_min_loss=np.inf\n",
        "\n",
        "  for epoch in range(num_epochs):\n",
        "    train_loss,valid_loss=0.0,0.0\n",
        "    model.train()\n",
        "    for X,Y in train_iter:\n",
        "      X=X.to(device)\n",
        "      Y=Y.to(device)\n",
        "      y_pred=model(X)\n",
        "      loss=criterion(y_pred,X)\n",
        "      optimizer.zero_grad()\n",
        "      loss.backward()\n",
        "      optimizer.step()\n",
        "      train_loss+=loss.item()*X.shape[0]\n",
        "      train_loss_list.append(loss.item())\n",
        "    model.eval()\n",
        "\n",
        "    for X,Y in valid_iter:\n",
        "      X=X.to(device)\n",
        "      Y=Y.to(device)\n",
        "      y_pred=model(X)\n",
        "      loss=criterion(y_pred,X)\n",
        "      valid_loss+=loss.item()*X.shape[0]\n",
        "      valid_loss_list.append(loss.item())\n",
        "    \n",
        "    train_loss=train_loss/len(train_iter.sampler)\n",
        "    valid_loss=valid_loss/len(valid_iter.sampler)\n",
        "\n",
        "    if valid_loss<valid_min_loss:\n",
        "      print('validation decreases {}-->{}.saving model...'.\\\n",
        "            format(valid_min_loss,valid_loss))\n",
        "      torch.save(model.state_dict(),'model.pt')\n",
        "    print('epoch:{},train loss:{},valid loss:{}'.\\\n",
        "          format(epoch+1,train_loss,valid_loss))\n",
        "    print('\\n')\n",
        "  return train_loss_list,valid_loss_list\n"
      ],
      "execution_count": 0,
      "outputs": []
    },
    {
      "cell_type": "code",
      "metadata": {
        "id": "CXrJI8YVUTnD",
        "colab_type": "code",
        "colab": {
          "base_uri": "https://localhost:8080/",
          "height": 427
        },
        "outputId": "1a105df3-06ad-4395-de5d-ded4adbeeb46"
      },
      "source": [
        "model=Autoencoder()\n",
        "num_epochs,lr=5,0.001\n",
        "train_loss_list,valid_loss_list=train(model,num_epochs,lr,train_iter,valid_iter)"
      ],
      "execution_count": 28,
      "outputs": [
        {
          "output_type": "stream",
          "text": [
            "/usr/local/lib/python3.6/dist-packages/torch/nn/functional.py:1351: UserWarning: nn.functional.sigmoid is deprecated. Use torch.sigmoid instead.\n",
            "  warnings.warn(\"nn.functional.sigmoid is deprecated. Use torch.sigmoid instead.\")\n"
          ],
          "name": "stderr"
        },
        {
          "output_type": "stream",
          "text": [
            "validation decreases inf-->0.01838696737587452.saving model...\n",
            "epoch:1,train loss:0.05719611838459968,valid loss:0.01838696737587452\n",
            "\n",
            "\n",
            "validation decreases inf-->0.01608368801077207.saving model...\n",
            "epoch:2,train loss:0.01697300762186448,valid loss:0.01608368801077207\n",
            "\n",
            "\n",
            "validation decreases inf-->0.015315909383197625.saving model...\n",
            "epoch:3,train loss:0.0156749016319712,valid loss:0.015315909383197625\n",
            "\n",
            "\n",
            "validation decreases inf-->0.014911143168807029.saving model...\n",
            "epoch:4,train loss:0.015125230277578035,valid loss:0.014911143168807029\n",
            "\n",
            "\n",
            "validation decreases inf-->0.014598393152157465.saving model...\n",
            "epoch:5,train loss:0.014778248086571693,valid loss:0.014598393152157465\n",
            "\n",
            "\n"
          ],
          "name": "stdout"
        }
      ]
    },
    {
      "cell_type": "code",
      "metadata": {
        "id": "_5wLIML_Uif2",
        "colab_type": "code",
        "colab": {
          "base_uri": "https://localhost:8080/",
          "height": 283
        },
        "outputId": "255b01bf-4252-4a32-b7f2-8756faaf25f7"
      },
      "source": [
        "plt.plot(range(len(train_loss_list)),train_loss_list)\n",
        "# plt.figure()\n",
        "# plt.plot(range(len(valid_loss_list)),valid_loss_list)"
      ],
      "execution_count": 31,
      "outputs": [
        {
          "output_type": "execute_result",
          "data": {
            "text/plain": [
              "[<matplotlib.lines.Line2D at 0x7f746295f5f8>]"
            ]
          },
          "metadata": {
            "tags": []
          },
          "execution_count": 31
        },
        {
          "output_type": "display_data",
          "data": {
            "image/png": "[encoded data removed]",
            "text/plain": [
              "<Figure size 432x288 with 1 Axes>"
            ]
          },
          "metadata": {
            "tags": [],
            "needs_background": "light"
          }
        }
      ]
    },
    {
      "cell_type": "markdown",
      "metadata": {
        "id": "5S5XHdZ_VR3F",
        "colab_type": "text"
      },
      "source": [
        "# 5 测试"
      ]
    },
    {
      "cell_type": "code",
      "metadata": {
        "id": "pCIPZp6KVJlC",
        "colab_type": "code",
        "colab": {}
      },
      "source": [
        "def check(model,data_iter,show_num):\n",
        "  import math\n",
        "  show_iter=iter(data_iter)\n",
        "  show_some=next(show_iter)\n",
        "  img,label=show_some\n",
        "  decoder=model(img.to(device))\n",
        "  fig=plt.figure()\n",
        "  for i in range(show_num):\n",
        "    ax=fig.add_subplot(2,show_num,i+1,xticks=[],yticks=[])\n",
        "    ax.imshow(img[i].squeeze(0).numpy(),cmap='gray')\n",
        "    ax=fig.add_subplot(2,show_num,show_num+i+1,xticks=[],yticks=[])\n",
        "    ax.imshow(decoder[i].squeeze(0).cpu().detach().numpy(),cmap='gray')"
      ],
      "execution_count": 0,
      "outputs": []
    },
    {
      "cell_type": "code",
      "metadata": {
        "id": "TyxMS3N9Wp3X",
        "colab_type": "code",
        "colab": {
          "base_uri": "https://localhost:8080/",
          "height": 236
        },
        "outputId": "abce22e6-3f48-4cc1-8b30-196b7f01a0ea"
      },
      "source": [
        "model.load_state_dict(torch.load('model.pt'))\n",
        "check(model,test_iter,10)"
      ],
      "execution_count": 38,
      "outputs": [
        {
          "output_type": "stream",
          "text": [
            "/usr/local/lib/python3.6/dist-packages/torch/nn/functional.py:1351: UserWarning: nn.functional.sigmoid is deprecated. Use torch.sigmoid instead.\n",
            "  warnings.warn(\"nn.functional.sigmoid is deprecated. Use torch.sigmoid instead.\")\n"
          ],
          "name": "stderr"
        },
        {
          "output_type": "display_data",
          "data": {
            "image/png": "[encoded data removed]",
            "text/plain": [
              "<Figure size 432x288 with 20 Axes>"
            ]
          },
          "metadata": {
            "tags": []
          }
        }
      ]
    },
    {
      "cell_type": "code",
      "metadata": {
        "id": "TrBnyEeNWyHO",
        "colab_type": "code",
        "colab": {}
      },
      "source": [
        ""
      ],
      "execution_count": 0,
      "outputs": []
    }
  ]
}